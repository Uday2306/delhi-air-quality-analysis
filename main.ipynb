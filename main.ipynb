{
 "cells": [
  {
   "cell_type": "code",
   "execution_count": 5,
   "id": "1c7cded0-f264-4083-a7bb-578210aaba4a",
   "metadata": {},
   "outputs": [],
   "source": [
    "import pandas as pd"
   ]
  },
  {
   "cell_type": "code",
   "execution_count": null,
   "id": "6caf5ae3-1379-41ba-a428-de7d36e8c733",
   "metadata": {},
   "outputs": [],
   "source": []
  },
  {
   "cell_type": "code",
   "execution_count": null,
   "id": "82b6eacb-a0a2-4943-aa14-aa3ac3752e57",
   "metadata": {},
   "outputs": [],
   "source": []
  },
  {
   "cell_type": "code",
   "execution_count": 6,
   "id": "597a40ea-a9ef-4550-b40c-a057c93a3732",
   "metadata": {},
   "outputs": [],
   "source": [
    "df = pd.read_csv(\"final_dataset.csv\")\n"
   ]
  },
  {
   "cell_type": "code",
   "execution_count": null,
   "id": "18c53f2a-6e36-4eb8-a62a-cf7cb483eec3",
   "metadata": {},
   "outputs": [],
   "source": []
  },
  {
   "cell_type": "code",
   "execution_count": null,
   "id": "fc7f7bb3-d727-405b-82d9-3014b3a70d6c",
   "metadata": {},
   "outputs": [],
   "source": []
  },
  {
   "cell_type": "code",
   "execution_count": 7,
   "id": "16107737-8956-4ede-a71c-6afb014ac3d6",
   "metadata": {},
   "outputs": [
    {
     "name": "stdout",
     "output_type": "stream",
     "text": [
      "   Date  Month  Year  Holidays_Count  Days   PM2.5    PM10     NO2    SO2  \\\n",
      "0     1      1  2021               0     5  408.80  442.42  160.61  12.95   \n",
      "1     2      1  2021               0     6  404.04  561.95   52.85   5.18   \n",
      "2     3      1  2021               1     7  225.07  239.04  170.95  10.93   \n",
      "3     4      1  2021               0     1   89.55  132.08  153.98  10.42   \n",
      "4     5      1  2021               0     2   54.06   55.54  122.66   9.70   \n",
      "\n",
      "     CO  Ozone  AQI  \n",
      "0  2.77  43.19  462  \n",
      "1  2.60  16.43  482  \n",
      "2  1.40  44.29  263  \n",
      "3  1.01  49.19  207  \n",
      "4  0.64  48.88  149  \n"
     ]
    }
   ],
   "source": [
    "print(df.head())"
   ]
  },
  {
   "cell_type": "code",
   "execution_count": null,
   "id": "49dcf39e-1f50-4978-a617-df448ff82df8",
   "metadata": {},
   "outputs": [],
   "source": []
  },
  {
   "cell_type": "code",
   "execution_count": 8,
   "id": "fbe4eded-576a-4790-9257-1124285cc221",
   "metadata": {},
   "outputs": [
    {
     "name": "stdout",
     "output_type": "stream",
     "text": [
      "Index(['date', 'month', 'year', 'holidays_count', 'days', 'pm2.5', 'pm10',\n",
      "       'no2', 'so2', 'co', 'ozone', 'aqi'],\n",
      "      dtype='object')\n"
     ]
    }
   ],
   "source": [
    "df.columns = [col.strip().lower().replace(\" \",\"_\")for col in df.columns]\n",
    "print(df.columns)"
   ]
  },
  {
   "cell_type": "code",
   "execution_count": null,
   "id": "7c47989e-02a9-4eff-8ad4-4f531d56ecf8",
   "metadata": {},
   "outputs": [],
   "source": []
  },
  {
   "cell_type": "code",
   "execution_count": 9,
   "id": "178d5678-c3ce-4071-af4b-49b4f4a479be",
   "metadata": {},
   "outputs": [
    {
     "name": "stdout",
     "output_type": "stream",
     "text": [
      "date              0\n",
      "month             0\n",
      "year              0\n",
      "holidays_count    0\n",
      "days              0\n",
      "pm2.5             0\n",
      "pm10              0\n",
      "no2               0\n",
      "so2               0\n",
      "co                0\n",
      "ozone             0\n",
      "aqi               0\n",
      "dtype: int64\n"
     ]
    }
   ],
   "source": [
    "print(df.isnull().sum())\n"
   ]
  },
  {
   "cell_type": "code",
   "execution_count": null,
   "id": "c9251367-8333-47f2-9317-fdf32020daa6",
   "metadata": {},
   "outputs": [],
   "source": []
  },
  {
   "cell_type": "code",
   "execution_count": 10,
   "id": "9aa85a60-dffd-495c-a30a-89c40f62e036",
   "metadata": {},
   "outputs": [],
   "source": [
    "df.rename(columns={'date':'day'},inplace=True)"
   ]
  },
  {
   "cell_type": "code",
   "execution_count": 11,
   "id": "a1445921-4fb7-42c9-9427-b7d163588e4c",
   "metadata": {},
   "outputs": [],
   "source": [
    "date = pd.to_datetime(df[['day','month','year']])"
   ]
  },
  {
   "cell_type": "code",
   "execution_count": 12,
   "id": "7fbb568c-a7fc-4e6f-b832-6c8a66d231c7",
   "metadata": {},
   "outputs": [],
   "source": [
    "month_to_season={\n",
    "    3:\"Summer\",4:\"Summer\",5:\"Summer\",6:\"Summer\",\n",
    "    7:\"Monsoon\",8:\"Monsoon\",9:\"Monsoon\",10:\"Monsoon\",\n",
    "    11:\"Winter\",12:\"Winter\",1:\"Winter\",2:\"Winter\"\n",
    "}\n",
    "df['season'] = df['month'].map(month_to_season)"
   ]
  },
  {
   "cell_type": "code",
   "execution_count": 15,
   "id": "ba6138d6-6f51-4b38-81b6-a0bf106488b3",
   "metadata": {},
   "outputs": [
    {
     "name": "stdout",
     "output_type": "stream",
     "text": [
      "      month  season\n",
      "0         1  Winter\n",
      "1         1  Winter\n",
      "2         1  Winter\n",
      "3         1  Winter\n",
      "4         1  Winter\n",
      "...     ...     ...\n",
      "1456     12  Winter\n",
      "1457     12  Winter\n",
      "1458     12  Winter\n",
      "1459     12  Winter\n",
      "1460     12  Winter\n",
      "\n",
      "[1461 rows x 2 columns]\n"
     ]
    }
   ],
   "source": [
    "print(df[['month','season']])"
   ]
  },
  {
   "cell_type": "code",
   "execution_count": 16,
   "id": "1849d8af-420d-49ea-a931-387b35d04ff3",
   "metadata": {},
   "outputs": [
    {
     "name": "stdout",
     "output_type": "stream",
     "text": [
      "0        1\n",
      "1        2\n",
      "2        3\n",
      "3        4\n",
      "4        5\n",
      "        ..\n",
      "1456    27\n",
      "1457    28\n",
      "1458    29\n",
      "1459    30\n",
      "1460    31\n",
      "Name: day, Length: 1461, dtype: int64\n"
     ]
    }
   ],
   "source": [
    "print(df['day'])"
   ]
  },
  {
   "cell_type": "code",
   "execution_count": 19,
   "id": "64cac5b0-2d14-4bab-a519-f41262ea930b",
   "metadata": {},
   "outputs": [],
   "source": [
    "bins=[0, 30, 60, 90, 120, 250, float('inf')]\n",
    "lables = ['Good','Satisfactory', 'Moderate', 'Poor', 'Very Poor', 'Severe']\n",
    "df['category_lable_pm25'] = pd.cut(df['pm2.5'],bins = bins, labels = lables,right = True)"
   ]
  },
  {
   "cell_type": "code",
   "execution_count": 20,
   "id": "212cb9e6-4f05-4715-95e3-297fb37f1c45",
   "metadata": {},
   "outputs": [
    {
     "name": "stdout",
     "output_type": "stream",
     "text": [
      "       pm2.5 category_lable_pm25\n",
      "0     408.80              Severe\n",
      "1     404.04              Severe\n",
      "2     225.07           Very Poor\n",
      "3      89.55            Moderate\n",
      "4      54.06        Satisfactory\n",
      "...      ...                 ...\n",
      "1456   58.43        Satisfactory\n",
      "1457   33.83        Satisfactory\n",
      "1458   31.21        Satisfactory\n",
      "1459   38.01        Satisfactory\n",
      "1460   80.42            Moderate\n",
      "\n",
      "[1461 rows x 2 columns]\n"
     ]
    }
   ],
   "source": [
    "print(df[['pm2.5','category_lable_pm25']])"
   ]
  },
  {
   "cell_type": "code",
   "execution_count": 21,
   "id": "a872647b-8b58-4f01-ba98-0ffdbfc93afc",
   "metadata": {},
   "outputs": [],
   "source": [
    "df.to_csv('cleaned_delhi_air_data.csv',index=False)"
   ]
  },
  {
   "cell_type": "code",
   "execution_count": null,
   "id": "6c9ae974-8f0b-431d-9b08-898698ec6feb",
   "metadata": {},
   "outputs": [],
   "source": []
  },
  {
   "cell_type": "code",
   "execution_count": null,
   "id": "31c66940-7da9-4f10-b67b-a3b41a27daab",
   "metadata": {},
   "outputs": [],
   "source": []
  },
  {
   "cell_type": "code",
   "execution_count": null,
   "id": "f7fdcb9b-5f8e-42d4-8c59-09bc81d5bc26",
   "metadata": {},
   "outputs": [],
   "source": []
  },
  {
   "cell_type": "code",
   "execution_count": null,
   "id": "97f1f9c2-1c0c-4cca-8273-7f41b64b7435",
   "metadata": {},
   "outputs": [],
   "source": []
  },
  {
   "cell_type": "code",
   "execution_count": null,
   "id": "de3406fa-3f46-46f4-b0bf-51cb68f49b91",
   "metadata": {},
   "outputs": [],
   "source": []
  },
  {
   "cell_type": "code",
   "execution_count": null,
   "id": "809acfd2-846c-4bb5-b3a9-1aaa3fd8bbf5",
   "metadata": {},
   "outputs": [],
   "source": []
  }
 ],
 "metadata": {
  "kernelspec": {
   "display_name": "Python 3 (ipykernel)",
   "language": "python",
   "name": "python3"
  },
  "language_info": {
   "codemirror_mode": {
    "name": "ipython",
    "version": 3
   },
   "file_extension": ".py",
   "mimetype": "text/x-python",
   "name": "python",
   "nbconvert_exporter": "python",
   "pygments_lexer": "ipython3",
   "version": "3.13.5"
  }
 },
 "nbformat": 4,
 "nbformat_minor": 5
}
